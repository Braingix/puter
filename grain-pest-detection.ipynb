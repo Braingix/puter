{
  "nbformat": 4,
  "nbformat_minor": 0,
  "metadata": {
    "colab": {
      "provenance": [],
      "gpuType": "T4",
      "authorship_tag": "ABX9TyMELUtqfCprdpNi2ZEO5JKo",
      "include_colab_link": true
    },
    "kernelspec": {
      "name": "python3",
      "display_name": "Python 3"
    },
    "language_info": {
      "name": "python"
    },
    "accelerator": "GPU"
  },
  "cells": [
    {
      "cell_type": "markdown",
      "metadata": {
        "id": "view-in-github",
        "colab_type": "text"
      },
      "source": [
        "<a href=\"https://colab.research.google.com/github/Braingix/puter/blob/main/grain-pest-detection.ipynb\" target=\"_parent\"><img src=\"https://colab.research.google.com/assets/colab-badge.svg\" alt=\"Open In Colab\"/></a>"
      ]
    },
    {
      "cell_type": "code",
      "execution_count": null,
      "metadata": {
        "colab": {
          "base_uri": "https://localhost:8080/"
        },
        "collapsed": true,
        "id": "_ONey-SQxUio",
        "outputId": "e65d2859-5d7f-49c9-bc8f-82062e01652f"
      },
      "outputs": [
        {
          "output_type": "stream",
          "name": "stdout",
          "text": [
            "Downloaded drive/MyDrive/CCMT_data.zip, size: 7.86 GB\n"
          ]
        }
      ],
      "source": [
        "import requests\n",
        "import os\n",
        "\n",
        "data_url = \"https://prod-dcd-datasets-cache-zipfiles.s3.eu-west-1.amazonaws.com/bwh3zbpkpv-1.zip\"\n",
        "\n",
        "def download_file(url, filename):\n",
        "    response = requests.get(url, stream=True)\n",
        "    with open(filename, 'wb') as f:\n",
        "        for chunk in response.iter_content(chunk_size=8192):\n",
        "            if chunk:\n",
        "                f.write(chunk)\n",
        "    print(f\"Downloaded {filename}, size: {os.path.getsize(filename) / (1024**3):.2f} GB\")\n",
        "\n",
        "download_file(data_url, \"drive/MyDrive/CCMT_data.zip\")"
      ]
    },
    {
      "cell_type": "code",
      "source": [
        "import os\n",
        "import zipfile\n",
        "\n",
        "def unzip_file(zip_path, extract_path):\n",
        "    with zipfile.ZipFile(zip_path, 'r') as zip_ref:\n",
        "        zip_ref.extractall(extract_path)\n",
        "    print(f\"Unzipped {zip_path} to {extract_path}\")\n",
        "\n",
        "unzip_file(\"datasets.zip\", \".\")"
      ],
      "metadata": {
        "colab": {
          "base_uri": "https://localhost:8080/"
        },
        "id": "8-kHscx1r61G",
        "outputId": "28a4c26e-89a9-4026-d2dd-ef03f5ff23c0"
      },
      "execution_count": 2,
      "outputs": [
        {
          "output_type": "stream",
          "name": "stdout",
          "text": [
            "Unzipped datasets.zip to .\n"
          ]
        }
      ]
    },
    {
      "cell_type": "code",
      "source": [
        "import os\n",
        "import shutil\n",
        "\n",
        "# Define base paths\n",
        "raw_base = \"drive/MyDrive/CCMT_dataset/Dataset for Crop Pest and Disease Detection/Raw Data/CCMT Dataset/Maize\"\n",
        "aug_base = \"drive/MyDrive/CCMT_dataset/Dataset for Crop Pest and Disease Detection/CCMT Dataset-Augmented/Maize\"\n",
        "raw_dest = \"drive/MyDrive/CCMT_dataset/raw_maize_subset\"\n",
        "aug_dest = \"drive/MyDrive/CCMT_dataset/aug_maize_subset\"\n",
        "\n",
        "# Create directories\n",
        "for dest in [raw_dest, aug_dest]:\n",
        "    os.makedirs(os.path.join(dest, \"infested\"), exist_ok=True)\n",
        "    os.makedirs(os.path.join(dest, \"not_infested\"), exist_ok=True)\n",
        "\n",
        "# Filter raw data\n",
        "for folder in [\"fall armyworm\", \"grasshopper\"]:\n",
        "    src = os.path.join(raw_base, folder)\n",
        "    if os.path.exists(src):\n",
        "        for img in os.listdir(src):\n",
        "            shutil.copy(os.path.join(src, img), os.path.join(raw_dest, \"infested\"))\n",
        "src = os.path.join(raw_base, \"healthy\")\n",
        "if os.path.exists(src):\n",
        "    for img in os.listdir(src):\n",
        "        shutil.copy(os.path.join(src, img), os.path.join(raw_dest, \"not_infested\"))\n",
        "\n",
        "# Filter augmented data (train and test sets)\n",
        "for split in [\"train_set\", \"test_set\"]:\n",
        "    aug_maize_base = os.path.join(aug_base, split)\n",
        "    if os.path.exists(aug_maize_base):\n",
        "        for folder in [\"fall armyworm\", \"grasshopper\"]:\n",
        "            src = os.path.join(aug_maize_base, folder)\n",
        "            if os.path.exists(src):\n",
        "                for img in os.listdir(src):\n",
        "                    shutil.copy(os.path.join(src, img), os.path.join(aug_dest, \"infested\"))\n",
        "        src = os.path.join(aug_maize_base, \"healthy\")\n",
        "        if os.path.exists(src):\n",
        "            for img in os.listdir(src):\n",
        "                shutil.copy(os.path.join(src, img), os.path.join(aug_dest, \"not_infested\"))\n",
        "\n",
        "# Count and size\n",
        "for dest, name in [(raw_dest, \"Raw\"), (aug_dest, \"Augmented\")]:\n",
        "    infested_count = len(os.listdir(os.path.join(dest, \"infested\")))\n",
        "    not_infested_count = len(os.listdir(os.path.join(dest, \"not_infested\")))\n",
        "    total_size = sum(os.path.getsize(os.path.join(root, f)) for root, _, files in os.walk(dest) for f in files)\n",
        "    print(f\"{name} - Infested: {infested_count}, Not Infested: {not_infested_count}, Size: {total_size / (1024**3):.2f} GB\")\n",
        ""
      ],
      "metadata": {
        "colab": {
          "base_uri": "https://localhost:8080/"
        },
        "id": "v6AVwe3AmxpQ",
        "outputId": "87d97956-042f-470f-b6e0-8431b53cb91b"
      },
      "execution_count": null,
      "outputs": [
        {
          "output_type": "stream",
          "name": "stdout",
          "text": [
            "Raw - Infested: 285, Not Infested: 208, Size: 0.02 GB\n",
            "Augmented - Infested: 1424, Not Infested: 1041, Size: 0.15 GB\n"
          ]
        }
      ]
    },
    {
      "cell_type": "code",
      "source": [
        "import os\n",
        "import shutil\n",
        "\n",
        "# Define base path for test set\n",
        "aug_base = \"drive/MyDrive/CCMT_dataset/Dataset for Crop Pest and Disease Detection/CCMT Dataset-Augmented/Maize/test_set\"\n",
        "test_dest = \"test_maize_subset\"\n",
        "os.makedirs(os.path.join(test_dest, \"infested\"), exist_ok=True)\n",
        "os.makedirs(os.path.join(test_dest, \"not_infested\"), exist_ok=True)\n",
        "\n",
        "# Filter test set\n",
        "for folder in [\"fall armyworm\", \"grasshopper\"]:\n",
        "    src = os.path.join(aug_base, folder)\n",
        "    if os.path.exists(src):\n",
        "        for img in os.listdir(src):\n",
        "            shutil.copy(os.path.join(src, img), os.path.join(test_dest, \"infested\"))\n",
        "src = os.path.join(aug_base, \"healthy\")\n",
        "if os.path.exists(src):\n",
        "    for img in os.listdir(src):\n",
        "        shutil.copy(os.path.join(src, img), os.path.join(test_dest, \"not_infested\"))\n",
        "\n",
        "# Count and size\n",
        "infested_count = len(os.listdir(os.path.join(test_dest, \"infested\")))\n",
        "not_infested_count = len(os.listdir(os.path.join(test_dest, \"not_infested\")))\n",
        "total_size = sum(os.path.getsize(os.path.join(root, f)) for root, _, files in os.walk(test_dest) for f in files)\n",
        "print(f\"Test Set - Infested: {infested_count}, Not Infested: {not_infested_count}, Size: {total_size / (1024**3):.2f} GB\")"
      ],
      "metadata": {
        "colab": {
          "base_uri": "https://localhost:8080/"
        },
        "id": "JstUIgUTBEYJ",
        "outputId": "c16d5273-2fb6-4fab-db15-5f010998eb44"
      },
      "execution_count": 15,
      "outputs": [
        {
          "output_type": "stream",
          "name": "stdout",
          "text": [
            "Test Set - Infested: 0, Not Infested: 0, Size: 0.00 GB\n"
          ]
        }
      ]
    },
    {
      "cell_type": "markdown",
      "source": [],
      "metadata": {
        "id": "mn-u3yjLnMFM"
      }
    },
    {
      "cell_type": "code",
      "source": [
        "from tensorflow.keras.preprocessing.image import ImageDataGenerator\n",
        "\n",
        "aug_data_dir = \"datasets/augmented/train_set\"\n",
        "aug_datagen = ImageDataGenerator(rescale=1./255, validation_split=0.3)\n",
        "\n",
        "aug_train_generator = aug_datagen.flow_from_directory(\n",
        "    aug_data_dir, target_size=(224, 224), batch_size=32, class_mode='binary', subset='training'\n",
        ")\n",
        "aug_val_generator = aug_datagen.flow_from_directory(\n",
        "    aug_data_dir, target_size=(224, 224), batch_size=32, class_mode='binary', subset='validation'\n",
        ")"
      ],
      "metadata": {
        "colab": {
          "base_uri": "https://localhost:8080/"
        },
        "id": "ruOVeT-OnNoP",
        "outputId": "849c55a2-856e-43dd-e782-8d27567366af"
      },
      "execution_count": null,
      "outputs": [
        {
          "output_type": "stream",
          "name": "stdout",
          "text": [
            "Found 1726 images belonging to 2 classes.\n",
            "Found 739 images belonging to 2 classes.\n"
          ]
        }
      ]
    },
    {
      "cell_type": "code",
      "source": [
        "import tensorflow as tf\n",
        "from tensorflow.keras.applications import MobileNetV2\n",
        "from tensorflow.keras.layers import Dense, GlobalAveragePooling2D\n",
        "from tensorflow.keras.models import Model\n",
        "from tensorflow.keras.preprocessing.image import ImageDataGenerator\n",
        "\n",
        "# Define paths\n",
        "train_dir = 'datasets/augmented/train_set'\n",
        "\n",
        "# Data generator for training\n",
        "train_datagen = ImageDataGenerator(\n",
        "    rescale=1./255,\n",
        "    validation_split=0.2  # 20% of train set for validation\n",
        ")\n",
        "\n",
        "train_generator = train_datagen.flow_from_directory(\n",
        "    train_dir,\n",
        "    target_size=(224, 224),\n",
        "    batch_size=32,\n",
        "    class_mode='binary',\n",
        "    subset='training'\n",
        ")\n",
        "val_generator = train_datagen.flow_from_directory(\n",
        "    train_dir,\n",
        "    target_size=(224, 224),\n",
        "    batch_size=32,\n",
        "    class_mode='binary',\n",
        "    subset='validation'\n",
        ")\n",
        "\n",
        "# Build model\n",
        "base_model = MobileNetV2(weights='imagenet', include_top=False, input_shape=(224, 224, 3))\n",
        "base_model.trainable = False\n",
        "\n",
        "x = base_model.output\n",
        "x = GlobalAveragePooling2D()(x)\n",
        "x = Dense(128, activation='relu')(x)\n",
        "predictions = Dense(1, activation='sigmoid')(x)\n",
        "model = Model(inputs=base_model.input, outputs=predictions)\n",
        "\n",
        "# Compile and train\n",
        "model.compile(optimizer='adam', loss='binary_crossentropy', metrics=['accuracy'])\n",
        "history = model.fit(train_generator, validation_data=val_generator, epochs=10)\n",
        "\n",
        "# Save model\n",
        "model.save('maize_pest_model_augmented.keras')\n",
        "model.save('maize_pest_model_augmented.h5')\n",
        "print(\"Model saved\")"
      ],
      "metadata": {
        "colab": {
          "base_uri": "https://localhost:8080/"
        },
        "id": "H3bJXZKFajtW",
        "outputId": "a72ebe47-5a13-4385-91e3-6263d2305ed5"
      },
      "execution_count": 4,
      "outputs": [
        {
          "output_type": "stream",
          "name": "stdout",
          "text": [
            "Found 3636 images belonging to 2 classes.\n",
            "Found 909 images belonging to 2 classes.\n",
            "Downloading data from https://storage.googleapis.com/tensorflow/keras-applications/mobilenet_v2/mobilenet_v2_weights_tf_dim_ordering_tf_kernels_1.0_224_no_top.h5\n",
            "\u001b[1m9406464/9406464\u001b[0m \u001b[32m━━━━━━━━━━━━━━━━━━━━\u001b[0m\u001b[37m\u001b[0m \u001b[1m0s\u001b[0m 0us/step\n"
          ]
        },
        {
          "output_type": "stream",
          "name": "stderr",
          "text": [
            "/usr/local/lib/python3.11/dist-packages/keras/src/trainers/data_adapters/py_dataset_adapter.py:121: UserWarning: Your `PyDataset` class should call `super().__init__(**kwargs)` in its constructor. `**kwargs` can include `workers`, `use_multiprocessing`, `max_queue_size`. Do not pass these arguments to `fit()`, as they will be ignored.\n",
            "  self._warn_if_super_not_called()\n"
          ]
        },
        {
          "output_type": "stream",
          "name": "stdout",
          "text": [
            "Epoch 1/10\n",
            "\u001b[1m114/114\u001b[0m \u001b[32m━━━━━━━━━━━━━━━━━━━━\u001b[0m\u001b[37m\u001b[0m \u001b[1m217s\u001b[0m 2s/step - accuracy: 0.9245 - loss: 0.1848 - val_accuracy: 0.9879 - val_loss: 0.0319\n",
            "Epoch 2/10\n",
            "\u001b[1m114/114\u001b[0m \u001b[32m━━━━━━━━━━━━━━━━━━━━\u001b[0m\u001b[37m\u001b[0m \u001b[1m266s\u001b[0m 2s/step - accuracy: 0.9930 - loss: 0.0233 - val_accuracy: 0.9923 - val_loss: 0.0273\n",
            "Epoch 3/10\n",
            "\u001b[1m114/114\u001b[0m \u001b[32m━━━━━━━━━━━━━━━━━━━━\u001b[0m\u001b[37m\u001b[0m \u001b[1m209s\u001b[0m 2s/step - accuracy: 0.9971 - loss: 0.0106 - val_accuracy: 0.9912 - val_loss: 0.0270\n",
            "Epoch 4/10\n",
            "\u001b[1m114/114\u001b[0m \u001b[32m━━━━━━━━━━━━━━━━━━━━\u001b[0m\u001b[37m\u001b[0m \u001b[1m215s\u001b[0m 2s/step - accuracy: 0.9995 - loss: 0.0059 - val_accuracy: 0.9824 - val_loss: 0.0517\n",
            "Epoch 5/10\n",
            "\u001b[1m114/114\u001b[0m \u001b[32m━━━━━━━━━━━━━━━━━━━━\u001b[0m\u001b[37m\u001b[0m \u001b[1m253s\u001b[0m 2s/step - accuracy: 0.9993 - loss: 0.0037 - val_accuracy: 0.9923 - val_loss: 0.0293\n",
            "Epoch 6/10\n",
            "\u001b[1m114/114\u001b[0m \u001b[32m━━━━━━━━━━━━━━━━━━━━\u001b[0m\u001b[37m\u001b[0m \u001b[1m200s\u001b[0m 2s/step - accuracy: 0.9963 - loss: 0.0080 - val_accuracy: 0.9879 - val_loss: 0.0334\n",
            "Epoch 7/10\n",
            "\u001b[1m114/114\u001b[0m \u001b[32m━━━━━━━━━━━━━━━━━━━━\u001b[0m\u001b[37m\u001b[0m \u001b[1m213s\u001b[0m 2s/step - accuracy: 0.9980 - loss: 0.0046 - val_accuracy: 0.9934 - val_loss: 0.0265\n",
            "Epoch 8/10\n",
            "\u001b[1m114/114\u001b[0m \u001b[32m━━━━━━━━━━━━━━━━━━━━\u001b[0m\u001b[37m\u001b[0m \u001b[1m251s\u001b[0m 2s/step - accuracy: 1.0000 - loss: 0.0014 - val_accuracy: 0.9945 - val_loss: 0.0270\n",
            "Epoch 9/10\n",
            "\u001b[1m114/114\u001b[0m \u001b[32m━━━━━━━━━━━━━━━━━━━━\u001b[0m\u001b[37m\u001b[0m \u001b[1m245s\u001b[0m 2s/step - accuracy: 1.0000 - loss: 6.8287e-04 - val_accuracy: 0.9912 - val_loss: 0.0278\n",
            "Epoch 10/10\n",
            "\u001b[1m114/114\u001b[0m \u001b[32m━━━━━━━━━━━━━━━━━━━━\u001b[0m\u001b[37m\u001b[0m \u001b[1m203s\u001b[0m 2s/step - accuracy: 1.0000 - loss: 4.2604e-04 - val_accuracy: 0.9923 - val_loss: 0.0275\n"
          ]
        },
        {
          "output_type": "stream",
          "name": "stderr",
          "text": [
            "WARNING:absl:You are saving your model as an HDF5 file via `model.save()` or `keras.saving.save_model(model)`. This file format is considered legacy. We recommend using instead the native Keras format, e.g. `model.save('my_model.keras')` or `keras.saving.save_model(model, 'my_model.keras')`. \n"
          ]
        },
        {
          "output_type": "stream",
          "name": "stdout",
          "text": [
            "Model saved\n"
          ]
        }
      ]
    },
    {
      "cell_type": "markdown",
      "source": [
        "Raw dataset"
      ],
      "metadata": {
        "id": "IChY3jQHu5ZE"
      }
    },
    {
      "cell_type": "code",
      "source": [
        "# Define test path\n",
        "test_dir = 'datasets/augmented/test_set'\n",
        "\n",
        "# Data generator for testing (no augmentation)\n",
        "test_datagen = ImageDataGenerator(rescale=1./255)\n",
        "test_generator = test_datagen.flow_from_directory(\n",
        "    test_dir,\n",
        "    target_size=(224, 224),\n",
        "    batch_size=32,\n",
        "    class_mode='binary',\n",
        "    shuffle=False\n",
        ")\n",
        "\n",
        "# Load model\n",
        "model = tf.keras.models.load_model('maize_pest_model_augmented.h5')\n",
        "\n",
        "# Evaluate\n",
        "test_eval = model.evaluate(test_generator)\n",
        "print(f\"Test Loss: {test_eval[0]}, Test Accuracy: {test_eval[1]}\")\n",
        "\n",
        "# Detailed metrics\n",
        "predictions = model.predict(test_generator)\n",
        "predicted_classes = (predictions > 0.5).astype(int)\n",
        "true_classes = test_generator.classes\n",
        "\n",
        "from sklearn.metrics import classification_report, confusion_matrix\n",
        "print(\"Classification Report:\")\n",
        "print(classification_report(true_classes, predicted_classes, target_names=['not_infested', 'infested']))\n",
        "print(\"Confusion Matrix:\")\n",
        "print(confusion_matrix(true_classes, predicted_classes))"
      ],
      "metadata": {
        "colab": {
          "base_uri": "https://localhost:8080/"
        },
        "id": "TT2o97g2u-W9",
        "outputId": "be34a498-df16-4248-b2f9-417055a5faa6"
      },
      "execution_count": 5,
      "outputs": [
        {
          "output_type": "stream",
          "name": "stdout",
          "text": [
            "Found 906 images belonging to 2 classes.\n"
          ]
        },
        {
          "output_type": "stream",
          "name": "stderr",
          "text": [
            "WARNING:absl:Compiled the loaded model, but the compiled metrics have yet to be built. `model.compile_metrics` will be empty until you train or evaluate the model.\n"
          ]
        },
        {
          "output_type": "stream",
          "name": "stdout",
          "text": [
            "\u001b[1m29/29\u001b[0m \u001b[32m━━━━━━━━━━━━━━━━━━━━\u001b[0m\u001b[37m\u001b[0m \u001b[1m58s\u001b[0m 2s/step - accuracy: 0.9994 - loss: 0.0021\n",
            "Test Loss: 0.003220242215320468, Test Accuracy: 0.9988962411880493\n",
            "\u001b[1m29/29\u001b[0m \u001b[32m━━━━━━━━━━━━━━━━━━━━\u001b[0m\u001b[37m\u001b[0m \u001b[1m45s\u001b[0m 1s/step\n",
            "Classification Report:\n",
            "              precision    recall  f1-score   support\n",
            "\n",
            "not_infested       1.00      1.00      1.00       695\n",
            "    infested       1.00      1.00      1.00       211\n",
            "\n",
            "    accuracy                           1.00       906\n",
            "   macro avg       1.00      1.00      1.00       906\n",
            "weighted avg       1.00      1.00      1.00       906\n",
            "\n",
            "Confusion Matrix:\n",
            "[[694   1]\n",
            " [  0 211]]\n"
          ]
        }
      ]
    },
    {
      "cell_type": "code",
      "source": [
        "base_model_raw = MobileNetV2(weights='imagenet', include_top=False, input_shape=(224, 224, 3))\n",
        "base_model_raw.trainable = False\n",
        "\n",
        "x = base_model_raw.output\n",
        "x = GlobalAveragePooling2D()(x)\n",
        "x = Dense(128, activation='relu')(x)\n",
        "predictions = Dense(1, activation='sigmoid')(x)\n",
        "raw_model = Model(inputs=base_model_raw.input, outputs=predictions)\n",
        "\n",
        "raw_model.compile(optimizer='adam', loss='binary_crossentropy', metrics=['accuracy'])\n",
        "raw_history = raw_model.fit(raw_train_generator, validation_data=raw_val_generator, epochs=10)\n",
        "raw_eval = raw_model.evaluate(raw_val_generator)\n",
        "print(f\"Raw Model - Loss: {raw_eval[0]}, Accuracy: {raw_eval[1]}\")\n",
        "raw_model.save('maize_pest_model_raw.h5')"
      ],
      "metadata": {
        "colab": {
          "base_uri": "https://localhost:8080/",
          "height": 356
        },
        "id": "nRkU_wbNv5KY",
        "outputId": "97ea7099-3954-4440-9a6e-6102589783e7"
      },
      "execution_count": null,
      "outputs": [
        {
          "output_type": "error",
          "ename": "UnidentifiedImageError",
          "evalue": "cannot identify image file <_io.BytesIO object at 0x7bc2c09bbd80>",
          "traceback": [
            "\u001b[0;31m---------------------------------------------------------------------------\u001b[0m",
            "\u001b[0;31mUnidentifiedImageError\u001b[0m                    Traceback (most recent call last)",
            "\u001b[0;32m<ipython-input-7-6131bbcdaad0>\u001b[0m in \u001b[0;36m<cell line: 0>\u001b[0;34m()\u001b[0m\n\u001b[1;32m      9\u001b[0m \u001b[0;34m\u001b[0m\u001b[0m\n\u001b[1;32m     10\u001b[0m \u001b[0mraw_model\u001b[0m\u001b[0;34m.\u001b[0m\u001b[0mcompile\u001b[0m\u001b[0;34m(\u001b[0m\u001b[0moptimizer\u001b[0m\u001b[0;34m=\u001b[0m\u001b[0;34m'adam'\u001b[0m\u001b[0;34m,\u001b[0m \u001b[0mloss\u001b[0m\u001b[0;34m=\u001b[0m\u001b[0;34m'binary_crossentropy'\u001b[0m\u001b[0;34m,\u001b[0m \u001b[0mmetrics\u001b[0m\u001b[0;34m=\u001b[0m\u001b[0;34m[\u001b[0m\u001b[0;34m'accuracy'\u001b[0m\u001b[0;34m]\u001b[0m\u001b[0;34m)\u001b[0m\u001b[0;34m\u001b[0m\u001b[0;34m\u001b[0m\u001b[0m\n\u001b[0;32m---> 11\u001b[0;31m \u001b[0mraw_history\u001b[0m \u001b[0;34m=\u001b[0m \u001b[0mraw_model\u001b[0m\u001b[0;34m.\u001b[0m\u001b[0mfit\u001b[0m\u001b[0;34m(\u001b[0m\u001b[0mraw_train_generator\u001b[0m\u001b[0;34m,\u001b[0m \u001b[0mvalidation_data\u001b[0m\u001b[0;34m=\u001b[0m\u001b[0mraw_val_generator\u001b[0m\u001b[0;34m,\u001b[0m \u001b[0mepochs\u001b[0m\u001b[0;34m=\u001b[0m\u001b[0;36m10\u001b[0m\u001b[0;34m)\u001b[0m\u001b[0;34m\u001b[0m\u001b[0;34m\u001b[0m\u001b[0m\n\u001b[0m\u001b[1;32m     12\u001b[0m \u001b[0mraw_eval\u001b[0m \u001b[0;34m=\u001b[0m \u001b[0mraw_model\u001b[0m\u001b[0;34m.\u001b[0m\u001b[0mevaluate\u001b[0m\u001b[0;34m(\u001b[0m\u001b[0mraw_val_generator\u001b[0m\u001b[0;34m)\u001b[0m\u001b[0;34m\u001b[0m\u001b[0;34m\u001b[0m\u001b[0m\n\u001b[1;32m     13\u001b[0m \u001b[0mprint\u001b[0m\u001b[0;34m(\u001b[0m\u001b[0;34mf\"Raw Model - Loss: {raw_eval[0]}, Accuracy: {raw_eval[1]}\"\u001b[0m\u001b[0;34m)\u001b[0m\u001b[0;34m\u001b[0m\u001b[0;34m\u001b[0m\u001b[0m\n",
            "\u001b[0;32m/usr/local/lib/python3.11/dist-packages/keras/src/utils/traceback_utils.py\u001b[0m in \u001b[0;36merror_handler\u001b[0;34m(*args, **kwargs)\u001b[0m\n\u001b[1;32m    120\u001b[0m             \u001b[0;31m# To get the full stack trace, call:\u001b[0m\u001b[0;34m\u001b[0m\u001b[0;34m\u001b[0m\u001b[0m\n\u001b[1;32m    121\u001b[0m             \u001b[0;31m# `keras.config.disable_traceback_filtering()`\u001b[0m\u001b[0;34m\u001b[0m\u001b[0;34m\u001b[0m\u001b[0m\n\u001b[0;32m--> 122\u001b[0;31m             \u001b[0;32mraise\u001b[0m \u001b[0me\u001b[0m\u001b[0;34m.\u001b[0m\u001b[0mwith_traceback\u001b[0m\u001b[0;34m(\u001b[0m\u001b[0mfiltered_tb\u001b[0m\u001b[0;34m)\u001b[0m \u001b[0;32mfrom\u001b[0m \u001b[0;32mNone\u001b[0m\u001b[0;34m\u001b[0m\u001b[0;34m\u001b[0m\u001b[0m\n\u001b[0m\u001b[1;32m    123\u001b[0m         \u001b[0;32mfinally\u001b[0m\u001b[0;34m:\u001b[0m\u001b[0;34m\u001b[0m\u001b[0;34m\u001b[0m\u001b[0m\n\u001b[1;32m    124\u001b[0m             \u001b[0;32mdel\u001b[0m \u001b[0mfiltered_tb\u001b[0m\u001b[0;34m\u001b[0m\u001b[0;34m\u001b[0m\u001b[0m\n",
            "\u001b[0;32m/usr/local/lib/python3.11/dist-packages/PIL/Image.py\u001b[0m in \u001b[0;36mopen\u001b[0;34m(fp, mode, formats)\u001b[0m\n\u001b[1;32m   3530\u001b[0m         \u001b[0mwarnings\u001b[0m\u001b[0;34m.\u001b[0m\u001b[0mwarn\u001b[0m\u001b[0;34m(\u001b[0m\u001b[0mmessage\u001b[0m\u001b[0;34m)\u001b[0m\u001b[0;34m\u001b[0m\u001b[0;34m\u001b[0m\u001b[0m\n\u001b[1;32m   3531\u001b[0m     \u001b[0mmsg\u001b[0m \u001b[0;34m=\u001b[0m \u001b[0;34m\"cannot identify image file %r\"\u001b[0m \u001b[0;34m%\u001b[0m \u001b[0;34m(\u001b[0m\u001b[0mfilename\u001b[0m \u001b[0;32mif\u001b[0m \u001b[0mfilename\u001b[0m \u001b[0;32melse\u001b[0m \u001b[0mfp\u001b[0m\u001b[0;34m)\u001b[0m\u001b[0;34m\u001b[0m\u001b[0;34m\u001b[0m\u001b[0m\n\u001b[0;32m-> 3532\u001b[0;31m     \u001b[0;32mraise\u001b[0m \u001b[0mUnidentifiedImageError\u001b[0m\u001b[0;34m(\u001b[0m\u001b[0mmsg\u001b[0m\u001b[0;34m)\u001b[0m\u001b[0;34m\u001b[0m\u001b[0;34m\u001b[0m\u001b[0m\n\u001b[0m\u001b[1;32m   3533\u001b[0m \u001b[0;34m\u001b[0m\u001b[0m\n\u001b[1;32m   3534\u001b[0m \u001b[0;34m\u001b[0m\u001b[0m\n",
            "\u001b[0;31mUnidentifiedImageError\u001b[0m: cannot identify image file <_io.BytesIO object at 0x7bc2c09bbd80>"
          ]
        }
      ]
    },
    {
      "cell_type": "code",
      "source": [
        "from google.colab import drive\n",
        "drive.mount('/drive')"
      ],
      "metadata": {
        "id": "4ocgR7kCwLOy",
        "colab": {
          "base_uri": "https://localhost:8080/"
        },
        "outputId": "8ea583f6-7e79-416f-9a08-1760da433f93"
      },
      "execution_count": 14,
      "outputs": [
        {
          "output_type": "stream",
          "name": "stdout",
          "text": [
            "Mounted at /drive\n"
          ]
        }
      ]
    },
    {
      "cell_type": "code",
      "source": [
        "import matplotlib.pyplot as plt\n",
        "\n",
        "# Plot accuracy\n",
        "plt.plot(aug_history.history['accuracy'], label='Augmented Train')\n",
        "plt.plot(aug_history.history['val_accuracy'], label='Augmented Val')\n",
        "plt.plot(raw_history.history['accuracy'], label='Raw Train')\n",
        "plt.plot(raw_history.history['val_accuracy'], label='Raw Val')\n",
        "plt.title('Model Accuracy Comparison')\n",
        "plt.xlabel('Epoch')\n",
        "plt.ylabel('Accuracy')\n",
        "plt.legend()\n",
        "plt.show()\n",
        "\n",
        "# Plot loss\n",
        "plt.plot(aug_history.history['loss'], label='Augmented Train')\n",
        "plt.plot(aug_history.history['val_loss'], label='Augmented Val')\n",
        "plt.plot(raw_history.history['loss'], label='Raw Train')\n",
        "plt.plot(raw_history.history['val_loss'], label='Raw Val')\n",
        "plt.title('Model Loss Comparison')\n",
        "plt.xlabel('Epoch')\n",
        "plt.ylabel('Loss')\n",
        "plt.legend()\n",
        "plt.show()"
      ],
      "metadata": {
        "id": "VBtf7f_UxSyS"
      },
      "execution_count": null,
      "outputs": []
    }
  ]
}